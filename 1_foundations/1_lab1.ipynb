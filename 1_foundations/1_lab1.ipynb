{
  "cells": [
    {
      "cell_type": "markdown",
      "metadata": {
        "id": "LN5BjmJKTNkI"
      },
      "source": [
        "# Welcome to the start of your adventure in Agentic AI"
      ]
    },
    {
      "cell_type": "markdown",
      "metadata": {
        "id": "X-LExMZCTNkK"
      },
      "source": [
        "<table style=\"margin: 0; text-align: left; width:100%\">\n",
        "    <tr>\n",
        "        <td style=\"width: 150px; height: 150px; vertical-align: middle;\">\n",
        "            <img src=\"https://duitconsulting.com/assets/images/logo.png\" width=\"150\" height=\"auto\" style=\"display: block;\" />\n",
        "        </td>\n",
        "        <td>\n",
        "            <h2 style=\"color:#ff7800;\">Are you ready for action??</h2>\n",
        "            <span style=\"color:#ff7800;\">Have you completed all the setup steps in the <a href=\"../setup/\">setup</a> folder?<br/>\n",
        "            Have you read the <a href=\"../README.md\">README</a>? Many common questions are answered here!<br/>\n",
        "            Have you checked out the guides in the <a href=\"../guides/01_intro.ipynb\">guides</a> folder?<br/>\n",
        "            Well in that case, you're ready!!\n",
        "            </span>\n",
        "        </td>\n",
        "    </tr>\n",
        "</table>"
      ]
    },
    {
      "cell_type": "markdown",
      "metadata": {
        "id": "TIAqqFPlTNkK"
      },
      "source": [
        "<table style=\"margin: 0; text-align: left; width:100%\">\n",
        "    <tr>\n",
        "        <td style=\"width: 150px; height: 150px; vertical-align: middle;\">\n",
        "            <img src=\"https://duitconsulting.com/assets/images/logo.png\" width=\"150\" height=\"150\" style=\"display: block;\" />\n",
        "        </td>\n",
        "        <td>\n",
        "            <h2 style=\"color:#00bfff;\">This code is a live resource - keep an eye out for my updates</h2>\n",
        "            <span style=\"color:#00bfff;\">I push updates regularly. As people ask questions or have problems, I add more examples and improve explanations. As a result, the code below might not be identical to the videos, as I've added more steps and better comments. Consider this like an interactive book that accompanies the lectures.<br/><br/>\n",
        "            I try to send emails regularly with important updates related to the course. You can find this in the 'Announcements' section of Udemy in the left sidebar. You can also choose to receive my emails via your Notification Settings in Udemy. I'm respectful of your inbox and always try to add value with my emails!\n",
        "            </span>\n",
        "        </td>\n",
        "    </tr>\n",
        "</table>"
      ]
    },
    {
      "cell_type": "markdown",
      "metadata": {
        "id": "8IK8NByvTNkL"
      },
      "source": [
        "### And please do remember to contact me if I can help\n",
        "\n",
        "And I love to connect: https://www.linkedin.com/in/eddonner/\n",
        "\n",
        "\n",
        "### New to Notebooks like this one? Head over to the guides folder!\n",
        "\n",
        "Just to check you've already added the Python and Jupyter extensions to Cursor, if not already installed:\n",
        "- Open extensions (View >> extensions)\n",
        "- Search for python, and when the results show, click on the ms-python one, and Install it if not already installed\n",
        "- Search for jupyter, and when the results show, click on the Microsoft one, and Install it if not already installed  \n",
        "Then View >> Explorer to bring back the File Explorer.\n",
        "\n",
        "And then:\n",
        "1. Click where it says \"Select Kernel\" near the top right, and select the option called `.venv (Python 3.12.9)` or similar, which should be the first choice or the most prominent choice. You may need to choose \"Python Environments\" first.\n",
        "2. Click in each \"cell\" below, starting with the cell immediately below this text, and press Shift+Enter to run\n",
        "3. Enjoy!\n",
        "\n",
        "After you click \"Select Kernel\", if there is no option like `.venv (Python 3.12.9)` then please do the following:  \n",
        "1. On Mac: From the Cursor menu, choose Settings >> VS Code Settings (NOTE: be sure to select `VSCode Settings` not `Cursor Settings`);  \n",
        "On Windows PC: From the File menu, choose Preferences >> VS Code Settings(NOTE: be sure to select `VSCode Settings` not `Cursor Settings`)  \n",
        "2. In the Settings search bar, type \"venv\"  \n",
        "3. In the field \"Path to folder with a list of Virtual Environments\" put the path to the project root, like C:\\Users\\username\\projects\\agents (on a Windows PC) or /Users/username/projects/agents (on Mac or Linux).  \n",
        "And then try again.\n",
        "\n",
        "Having problems with missing Python versions in that list? Have you ever used Anaconda before? It might be interferring. Quit Cursor, bring up a new command line, and make sure that your Anaconda environment is deactivated:    \n",
        "`conda deactivate`  \n",
        "And if you still have any problems with conda and python versions, it's possible that you will need to run this too:  \n",
        "`conda config --set auto_activate_base false`  \n",
        "and then from within the Agents directory, you should be able to run `uv python list` and see the Python 3.12 version."
      ]
    },
    {
      "cell_type": "code",
      "execution_count": 11,
      "metadata": {
        "colab": {
          "base_uri": "https://localhost:8080/"
        },
        "id": "T43MhCl_TNkL",
        "outputId": "afdaf6cd-69be-4ceb-bc7b-01f1a52c7a8b"
      },
      "outputs": [
        {
          "output_type": "stream",
          "name": "stdout",
          "text": [
            "Drive already mounted at /content/drive; to attempt to forcibly remount, call drive.mount(\"/content/drive\", force_remount=True).\n"
          ]
        },
        {
          "output_type": "execute_result",
          "data": {
            "text/plain": [
              "True"
            ]
          },
          "metadata": {},
          "execution_count": 11
        }
      ],
      "source": [
        "# First let's do an import. If you get an Import Error, double check that your Kernel is correct..\n",
        "\n",
        "from dotenv import load_dotenv\n",
        "from google.colab import drive\n",
        "import os\n",
        "import dotenv\n",
        "from IPython.display import Markdown, display\n",
        "\n",
        "drive.mount('/content/drive')"
      ]
    },
    {
      "cell_type": "code",
      "execution_count": 13,
      "metadata": {
        "colab": {
          "base_uri": "https://localhost:8080/"
        },
        "id": "RfySRHV2TNkM",
        "outputId": "ed9ceab6-3d3f-4bf2-e873-210000e98548"
      },
      "outputs": [
        {
          "output_type": "execute_result",
          "data": {
            "text/plain": [
              "False"
            ]
          },
          "metadata": {},
          "execution_count": 13
        }
      ],
      "source": [
        "# Next it's time to load the API keys into environment variables\n",
        "# If this returns false, see the next cell!\n",
        "dotenv.load_dotenv('/content/drive/MyDrive/.env')\n",
        "load_dotenv(override=True)"
      ]
    },
    {
      "cell_type": "markdown",
      "metadata": {
        "id": "DjefctsbTNkN"
      },
      "source": [
        "### Wait, did that just output `False`??\n",
        "\n",
        "If so, the most common reason is that you didn't save your `.env` file after adding the key! Be sure to have saved.\n",
        "\n",
        "Also, make sure the `.env` file is named precisely `.env` and is in the project root directory (`agents`)\n",
        "\n",
        "By the way, your `.env` file should have a stop symbol next to it in Cursor on the left, and that's actually a good thing: that's Cursor saying to you, \"hey, I realize this is a file filled with secret information, and I'm not going to send it to an external AI to suggest changes, because your keys should not be shown to anyone else.\""
      ]
    },
    {
      "cell_type": "markdown",
      "metadata": {
        "id": "Q1Ho01qtTNkN"
      },
      "source": [
        "<table style=\"margin: 0; text-align: left; width:100%\">\n",
        "    <tr>\n",
        "        <td style=\"width: 150px; height: 150px; vertical-align: middle;\">\n",
        "            <img src=\"https://duitconsulting.com/assets/images/logo.png\" width=\"150\" height=\"auto\" style=\"display: block;\" />\n",
        "        </td>\n",
        "        <td>\n",
        "            <h2 style=\"color:#ff7800;\">Final reminders</h2>\n",
        "            <span style=\"color:#ff7800;\">1. If you're not confident about Environment Variables or Web Endpoints / APIs, please read Topics 3 and 5 in this <a href=\"../guides/04_technical_foundations.ipynb\">technical foundations guide</a>.<br/>\n",
        "            2. If you want to use AIs other than OpenAI, like Gemini, DeepSeek or Ollama (free), please see the first section in this <a href=\"../guides/09_ai_apis_and_ollama.ipynb\">AI APIs guide</a>.<br/>\n",
        "            3. If you ever get a Name Error in Python, you can always fix it immediately; see the last section of this <a href=\"../guides/06_python_foundations.ipynb\">Python Foundations guide</a> and follow both tutorials and exercises.<br/>\n",
        "            </span>\n",
        "        </td>\n",
        "    </tr>\n",
        "</table>"
      ]
    },
    {
      "cell_type": "code",
      "execution_count": 14,
      "metadata": {
        "colab": {
          "base_uri": "https://localhost:8080/"
        },
        "id": "t2I73c2qTNkN",
        "outputId": "93f2f419-5ca9-4d20-b95c-f4816e2f87c9"
      },
      "outputs": [
        {
          "output_type": "stream",
          "name": "stdout",
          "text": [
            "OpenAI API Key exists and begins sk-proj-\n"
          ]
        }
      ],
      "source": [
        "# Check the key - if you're not using OpenAI, check whichever key you're using! Ollama doesn't need a key.\n",
        "\n",
        "import os\n",
        "openai_api_key = os.getenv('OPENAI_API_KEY')\n",
        "\n",
        "if openai_api_key:\n",
        "    print(f\"OpenAI API Key exists and begins {openai_api_key[:8]}\")\n",
        "else:\n",
        "    print(\"OpenAI API Key not set - please head to the troubleshooting guide in the setup folder\")\n",
        "\n"
      ]
    },
    {
      "cell_type": "code",
      "execution_count": 15,
      "metadata": {
        "id": "3CC-B-1UTNkN"
      },
      "outputs": [],
      "source": [
        "# And now - the all important import statement\n",
        "# If you get an import error - head over to troubleshooting in the Setup folder\n",
        "# Even for other LLM providers like Gemini, you still use this OpenAI import - see Guide 9 for why\n",
        "\n",
        "from openai import OpenAI"
      ]
    },
    {
      "cell_type": "code",
      "execution_count": 16,
      "metadata": {
        "id": "DTZTxLHXTNkO"
      },
      "outputs": [],
      "source": [
        "# And now we'll create an instance of the OpenAI class\n",
        "# If you're not sure what it means to create an instance of a class - head over to the guides folder (guide 6)!\n",
        "# If you get a NameError - head over to the guides folder (guide 6)to learn about NameErrors - always instantly fixable\n",
        "# If you're not using OpenAI, you just need to slightly modify this - precise instructions are in the AI APIs guide (guide 9)\n",
        "\n",
        "openai = OpenAI()"
      ]
    },
    {
      "cell_type": "code",
      "execution_count": 17,
      "metadata": {
        "id": "4kVlQLJzTNkO"
      },
      "outputs": [],
      "source": [
        "# Create a list of messages in the familiar OpenAI format\n",
        "\n",
        "messages = [{\"role\": \"user\", \"content\": \"What is 2+2?\"}]"
      ]
    },
    {
      "cell_type": "code",
      "execution_count": 18,
      "metadata": {
        "colab": {
          "base_uri": "https://localhost:8080/"
        },
        "id": "xDNqByeNTNkO",
        "outputId": "904f3792-fa81-4d64-9152-04f518011119"
      },
      "outputs": [
        {
          "output_type": "stream",
          "name": "stdout",
          "text": [
            "2 + 2 equals 4.\n"
          ]
        }
      ],
      "source": [
        "# And now call it! Any problems, head to the troubleshooting guide\n",
        "# This uses GPT 4.1 nano, the incredibly cheap model\n",
        "# The APIs guide (guide 9) has exact instructions for using even cheaper or free alternatives to OpenAI\n",
        "# If you get a NameError, head to the guides folder (guide 6) to learn about NameErrors - always instantly fixable\n",
        "\n",
        "response = openai.chat.completions.create(\n",
        "    model=\"gpt-4.1-nano\",\n",
        "    messages=messages\n",
        ")\n",
        "\n",
        "print(response.choices[0].message.content)\n"
      ]
    },
    {
      "cell_type": "code",
      "source": [
        "response"
      ],
      "metadata": {
        "colab": {
          "base_uri": "https://localhost:8080/"
        },
        "id": "okN7AdLTVcOW",
        "outputId": "8a3c2b11-a54e-4013-81f4-4257ac2820ba"
      },
      "execution_count": 25,
      "outputs": [
        {
          "output_type": "execute_result",
          "data": {
            "text/plain": [
              "ChatCompletion(id='chatcmpl-CPTODZ2I2wRp7mu3SHVPonkPGWwDE', choices=[Choice(finish_reason='stop', index=0, logprobs=None, message=ChatCompletionMessage(content='2 + 2 equals 4.', refusal=None, role='assistant', annotations=[], audio=None, function_call=None, tool_calls=None))], created=1760187209, model='gpt-4.1-nano-2025-04-14', object='chat.completion', service_tier='default', system_fingerprint='fp_7c233bf9d1', usage=CompletionUsage(completion_tokens=8, prompt_tokens=14, total_tokens=22, completion_tokens_details=CompletionTokensDetails(accepted_prediction_tokens=0, audio_tokens=0, reasoning_tokens=0, rejected_prediction_tokens=0), prompt_tokens_details=PromptTokensDetails(audio_tokens=0, cached_tokens=0)))"
            ]
          },
          "metadata": {},
          "execution_count": 25
        }
      ]
    },
    {
      "cell_type": "code",
      "execution_count": 26,
      "metadata": {
        "id": "PR0khf08TNkO"
      },
      "outputs": [],
      "source": [
        "# And now - let's ask for a question:\n",
        "\n",
        "question = \"Please propose a hard, challenging question to assess someone's IQ. Respond only with the question.\"\n",
        "messages = [{\"role\": \"user\", \"content\": question}]\n"
      ]
    },
    {
      "cell_type": "code",
      "execution_count": 27,
      "metadata": {
        "colab": {
          "base_uri": "https://localhost:8080/"
        },
        "id": "ufIh2bHETNkP",
        "outputId": "14a37d56-3b94-4cd0-d210-4e068fa8fb9c"
      },
      "outputs": [
        {
          "output_type": "stream",
          "name": "stdout",
          "text": [
            "A bat and a ball cost $1.10 in total. The bat costs $1.00 more than the ball. How much does the ball cost?\n"
          ]
        }
      ],
      "source": [
        "# ask it - this uses GPT 4.1 mini, still cheap but more powerful than nano\n",
        "\n",
        "response = openai.chat.completions.create(\n",
        "    model=\"gpt-4.1-mini\",\n",
        "    messages=messages\n",
        ")\n",
        "\n",
        "question = response.choices[0].message.content\n",
        "print(question)"
      ]
    },
    {
      "cell_type": "code",
      "execution_count": 28,
      "metadata": {
        "id": "OcrxnHrTTNkP"
      },
      "outputs": [],
      "source": [
        "# form a new messages list\n",
        "messages = [{\"role\": \"user\", \"content\": question}]"
      ]
    },
    {
      "cell_type": "code",
      "execution_count": 29,
      "metadata": {
        "colab": {
          "base_uri": "https://localhost:8080/"
        },
        "id": "yRTFsxklTNkP",
        "outputId": "cb622449-ea45-4c3b-cba3-07cf8c74df32"
      },
      "outputs": [
        {
          "output_type": "stream",
          "name": "stdout",
          "text": [
            "Let's denote the cost of the ball as \\( x \\) dollars.\n",
            "\n",
            "According to the problem:\n",
            "\n",
            "- The bat costs \\( x + 1.00 \\) dollars.\n",
            "- The total cost is \\( x + (x + 1.00) = 1.10 \\).\n",
            "\n",
            "Set up the equation:\n",
            "\n",
            "\\[\n",
            "x + (x + 1.00) = 1.10\n",
            "\\]\n",
            "\n",
            "\\[\n",
            "2x + 1.00 = 1.10\n",
            "\\]\n",
            "\n",
            "Subtract 1.00 from both sides:\n",
            "\n",
            "\\[\n",
            "2x = 0.10\n",
            "\\]\n",
            "\n",
            "Divide both sides by 2:\n",
            "\n",
            "\\[\n",
            "x = 0.05\n",
            "\\]\n",
            "\n",
            "**Answer:** The ball costs **5 cents**.\n"
          ]
        }
      ],
      "source": [
        "# Ask it again\n",
        "\n",
        "response = openai.chat.completions.create(\n",
        "    model=\"gpt-4.1-mini\",\n",
        "    messages=messages\n",
        ")\n",
        "\n",
        "answer = response.choices[0].message.content\n",
        "print(answer)\n"
      ]
    },
    {
      "cell_type": "code",
      "execution_count": 30,
      "metadata": {
        "colab": {
          "base_uri": "https://localhost:8080/",
          "height": 297
        },
        "id": "79yN9ddkTNkP",
        "outputId": "4fbb25d7-4830-457b-e452-88664c764c7a"
      },
      "outputs": [
        {
          "output_type": "display_data",
          "data": {
            "text/plain": [
              "<IPython.core.display.Markdown object>"
            ],
            "text/markdown": "Let's denote the cost of the ball as \\( x \\) dollars.\n\nAccording to the problem:\n\n- The bat costs \\( x + 1.00 \\) dollars.\n- The total cost is \\( x + (x + 1.00) = 1.10 \\).\n\nSet up the equation:\n\n\\[\nx + (x + 1.00) = 1.10\n\\]\n\n\\[\n2x + 1.00 = 1.10\n\\]\n\nSubtract 1.00 from both sides:\n\n\\[\n2x = 0.10\n\\]\n\nDivide both sides by 2:\n\n\\[\nx = 0.05\n\\]\n\n**Answer:** The ball costs **5 cents**."
          },
          "metadata": {}
        }
      ],
      "source": [
        "display(Markdown(answer))"
      ]
    },
    {
      "cell_type": "markdown",
      "metadata": {
        "id": "eKGiwD2GTNkP"
      },
      "source": [
        "# Congratulations!\n",
        "\n",
        "That was a small, simple step in the direction of Agentic AI, with your new environment!\n",
        "\n",
        "Next time things get more interesting..."
      ]
    },
    {
      "cell_type": "markdown",
      "metadata": {
        "id": "HtaMvwY4TNkQ"
      },
      "source": [
        "<table style=\"margin: 0; text-align: left; width:100%\">\n",
        "    <tr>\n",
        "        <td style=\"width: 150px; height: 150px; vertical-align: middle;\">\n",
        "            <img src=\"https://duitconsulting.com/assets/images/logo.png\" width=\"150\" height=\"auto\" style=\"display: block;\" />\n",
        "        </td>\n",
        "        <td>\n",
        "            <h2 style=\"color:#ff7800;\">Exercise</h2>\n",
        "            <span style=\"color:#ff7800;\">Now try this commercial application:<br/>\n",
        "            First ask the LLM to pick a business area that might be worth exploring for an Agentic AI opportunity.<br/>\n",
        "            Then ask the LLM to present a pain-point in that industry - something challenging that might be ripe for an Agentic solution.<br/>\n",
        "            Finally have 3 third LLM call propose the Agentic AI solution. <br/>\n",
        "            We will cover this at up-coming labs, so don't worry if you're unsure.. just give it a try!\n",
        "            </span>\n",
        "        </td>\n",
        "    </tr>\n",
        "</table>"
      ]
    },
    {
      "cell_type": "code",
      "execution_count": 31,
      "metadata": {
        "id": "Vq2Pd7OUTNkQ"
      },
      "outputs": [],
      "source": [
        "# First create the messages:\n",
        "\n",
        "messages = [{\"role\": \"user\", \"content\": \"Select a business area that is worth exploring for an Agentic AI opportunity.\"}]\n",
        "\n",
        "# Then make the first call:\n",
        "\n",
        "response = openai.chat.completions.create(\n",
        "    model=\"gpt-4.1-mini\",\n",
        "    messages=messages\n",
        ")\n",
        "\n",
        "# Then read the business idea:\n",
        "business_idea = response.choices[0].message.content\n",
        "answer = response.choices[0].message.content\n",
        "from IPython.display import Markdown, display\n",
        "\n",
        "display(Markdown(answer))"
      ]
    },
    {
      "cell_type": "code",
      "source": [
        "business_idea"
      ],
      "metadata": {
        "colab": {
          "base_uri": "https://localhost:8080/",
          "height": 192
        },
        "id": "px_EI9IRaAHV",
        "outputId": "01d9113f-c6a2-431e-931a-b9247aa3bdb7"
      },
      "execution_count": 32,
      "outputs": [
        {
          "output_type": "execute_result",
          "data": {
            "text/plain": [
              "'One promising business area for exploring an Agentic AI opportunity is **Personalized Healthcare Management**.\\n\\n### Why Personalized Healthcare Management?\\n\\n1. **Complex Decision-Making**: Healthcare involves constantly changing patient data, treatment options, and individualized needs, which are well-suited for an agentic AI that can autonomously gather information, analyze it, and make recommendations or initiate actions.\\n\\n2. **Data-Intensive Environment**: AI agents can process vast amounts of medical records, genetic data, wearable health metrics, and lifestyle information to create tailored health plans.\\n\\n3. **Continuous Monitoring & Intervention**: Agents can proactively monitor patient status, detect anomalies, suggest medication adjustments, schedule appointments, or alert medical professionals in emergencies.\\n\\n4. **Patient Empowerment**: Agentic AI can act as a personal health assistant, providing users with actionable health insights, nudging them towards healthier behaviors, or ensuring medication adherence — all with minimal manual input.\\n\\n5. **Healthcare Efficiency**: By automating routine tasks and decision support, AI agents can reduce workloads for clinicians, improve outcomes, and reduce costs.\\n\\n---\\n\\n### Example Agentic AI Application\\n\\nAn agentic AI system could manage chronic diseases such as diabetes, autonomously adjusting insulin dosage recommendations based on continuous glucose monitoring, diet logs, activity levels, and environmental factors, while coordinating virtual consultations with healthcare providers as needed.\\n\\n---\\n\\nThis business area combines high impact, scalability, and a clear value proposition for both consumers and healthcare providers, making it an attractive target for developing agentic AI solutions.'"
            ],
            "application/vnd.google.colaboratory.intrinsic+json": {
              "type": "string"
            }
          },
          "metadata": {},
          "execution_count": 32
        }
      ]
    },
    {
      "cell_type": "code",
      "source": [
        "\n",
        "# And add it to the messages:\n",
        "\n",
        "messages = [{\"role\": \"user\", \"content\": business_idea + \"In this context, what is a painpoint that can be a target for a solution\"}]\n",
        "response = openai.chat.completions.create(\n",
        "    model=\"gpt-4.1-mini\",\n",
        "    messages=messages\n",
        ")"
      ],
      "metadata": {
        "id": "ShH1FDswZ7bs"
      },
      "execution_count": 33,
      "outputs": []
    },
    {
      "cell_type": "code",
      "source": [
        "answer = response.choices[0].message.content\n",
        "\n",
        "display(Markdown(answer))"
      ],
      "metadata": {
        "colab": {
          "base_uri": "https://localhost:8080/",
          "height": 426
        },
        "id": "gQGTmmfIc3Ds",
        "outputId": "e6995044-2836-438d-e166-e193f668ec48"
      },
      "execution_count": 36,
      "outputs": [
        {
          "output_type": "display_data",
          "data": {
            "text/plain": [
              "<IPython.core.display.Markdown object>"
            ],
            "text/markdown": "A key pain point in **Personalized Healthcare Management** that can be targeted by an agentic AI solution is:\n\n### **Medication Adherence and Management**\n\n#### Why is this a critical pain point?\n- Many patients, especially those with chronic conditions (e.g., diabetes, hypertension, cardiovascular diseases), struggle to consistently take their medications correctly—wrong timing, missed doses, or incorrect usage.\n- Non-adherence leads to worse health outcomes, increased hospitalizations, and higher healthcare costs.\n- Current solutions like reminders or simple apps have limited effectiveness because they don’t adapt dynamically to the patient’s context, motivations, or emerging health data.\n- Clinicians often have limited visibility into real-time adherence and cannot intervene proactively.\n\n#### How an agentic AI can address it:\n- Autonomously gather data from pillboxes, wearable devices, and patient behavior.\n- Detect patterns or risks of non-adherence before they become problematic.\n- Proactively nudge patients with personalized, context-aware prompts (e.g., reminders timed to daily routine or motivational messages based on behavior trends).\n- Adjust interventions based on effectiveness, such as escalating to virtual coaching or alerting healthcare providers when needed.\n- Integrate adherence data with overall health metrics to optimize treatment plans.\n\n---\n\nThis pain point is actionable, measurable, and can demonstrate clear improvements in health outcomes and operational efficiency when addressed by an intelligent, autonomous agent."
          },
          "metadata": {}
        }
      ]
    },
    {
      "cell_type": "code",
      "source": [
        "messages = [{\"role\": \"user\", \"content\": answer + \"Provide the solution to address the pain point\"}]\n",
        "response = openai.chat.completions.create(\n",
        "    model=\"gpt-4.1-mini\",\n",
        "    messages=messages\n",
        ")\n",
        "answer = response.choices[0].message.content\n",
        "display(Markdown(answer))"
      ],
      "metadata": {
        "colab": {
          "base_uri": "https://localhost:8080/",
          "height": 1000
        },
        "id": "m0sgNtq7d7Cq",
        "outputId": "09675b23-450c-4aa6-a13c-d212fd9f00d3"
      },
      "execution_count": 37,
      "outputs": [
        {
          "output_type": "display_data",
          "data": {
            "text/plain": [
              "<IPython.core.display.Markdown object>"
            ],
            "text/markdown": "### Agentic AI Solution for Medication Adherence and Management in Personalized Healthcare\n\n---\n\n#### **Solution Overview:**\nDevelop an **Agentic AI-powered Medication Adherence Management System (MAMS)** that autonomously monitors, predicts, and optimizes patient medication-taking behavior through continuous data integration, intelligent analysis, personalized interventions, and clinical collaboration.\n\n---\n\n### Key Components and Features:\n\n1. **Multimodal Data Integration:**\n   - **Smart Pillboxes & Dispensers:** Automated logging of pill removal time.\n   - **Wearable Devices:** Track physiological parameters (e.g., heart rate, blood glucose) that correlate with medication effects.\n   - **Mobile App Inputs:** Patient self-reports, mood, context (location, activity).\n   - **Electronic Health Records (EHR):** Access to prescription changes, lab results, clinician notes.\n\n2. **Real-Time Adherence Detection & Risk Prediction:**\n   - Use machine learning models to identify patterns indicating missed doses or incorrect usage based on:\n     - Historical adherence data.\n     - Behavioral cues (e.g., irregular sleep, changes in activity).\n     - Physiological responses.\n   - Predict risk of adverse events or health deterioration due to non-adherence.\n\n3. **Personalized, Context-Aware Nudging:**\n   - Send dynamic reminders tailored to the patient’s daily routine, preferred communication channel (SMS, app notification, phone call), and motivational style (informational, empathetic, incentivizing).\n   - Adjust timing and content based on real-time context (e.g., remind after breakfast if the patient usually takes morning meds with food).\n   - Use natural language understanding to engage in brief dialog with the patient, addressing concerns or barriers.\n\n4. **Adaptive Intervention Escalation:**\n   - Monitor response to nudges; if adherence does not improve, escalate interventions:\n     - Virtual coaching with an AI health coach for education and motivation.\n     - Automated alerts to caregivers or healthcare providers for proactive outreach.\n     - Suggest consultation appointment scheduling or prescription review.\n\n5. **Integrated Health Data Analytics:**\n   - Correlate adherence data with clinical outcomes to assess impact.\n   - Provide clinicians with actionable insights and dashboards highlighting adherence trends, patient engagement, and risk alerts.\n   - Support shared decision-making and personalized treatment adjustments in care plans.\n\n---\n\n### Benefits:\n\n- **For Patients:**\n  - Increased medication adherence through personalized, empathetic support.\n  - Reduced risk of complications and hospitalizations.\n  - Empowerment via real-time feedback and tailored education.\n\n- **For Clinicians:**\n  - Improved visibility into patient adherence without relying solely on self-report.\n  - Enhanced ability to intervene proactively and optimize treatments.\n  - Time-saving through automated monitoring and alerts.\n\n- **For Healthcare Systems:**\n  - Reduction in avoidable healthcare utilization and costs.\n  - Data-driven opportunities to improve population health management programs.\n  - Scalable and continuous support for chronic disease management.\n\n---\n\n### Implementation Considerations:\n\n- **Privacy & Security:** Ensure HIPAA-compliant data handling, transparent consent, and patient control over data sharing.\n- **User-Friendly Design:** Intuitive interfaces respecting digital literacy variance.\n- **Interoperability:** Seamlessly integrate with existing healthcare IT infrastructure.\n- **Continuous Learning:** AI models refine predictions and interventions based on ongoing patient data and outcomes.\n\n---\n\n**In summary, an Agentic AI solution in medication adherence management acts as an autonomous, intelligent caregiver assistant — dynamically understanding and adapting to each patient’s unique context to deliver timely, personalized support that drives better health outcomes and operational efficiencies.**"
          },
          "metadata": {}
        }
      ]
    },
    {
      "cell_type": "markdown",
      "metadata": {
        "id": "0O30aFwUTNkQ"
      },
      "source": []
    }
  ],
  "metadata": {
    "kernelspec": {
      "display_name": ".venv",
      "language": "python",
      "name": "python3"
    },
    "language_info": {
      "codemirror_mode": {
        "name": "ipython",
        "version": 3
      },
      "file_extension": ".py",
      "mimetype": "text/x-python",
      "name": "python",
      "nbconvert_exporter": "python",
      "pygments_lexer": "ipython3",
      "version": "3.12.9"
    },
    "colab": {
      "provenance": []
    }
  },
  "nbformat": 4,
  "nbformat_minor": 0
}